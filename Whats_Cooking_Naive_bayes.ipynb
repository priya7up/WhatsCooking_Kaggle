{
 "cells": [
  {
   "cell_type": "code",
   "execution_count": 12,
   "metadata": {
    "collapsed": false
   },
   "outputs": [],
   "source": [
    "import pandas as pd\n",
    "from sklearn import model_selection\n",
    "from collections import Counter\n",
    "import itertools\n",
    "from nltk.util import ngrams\n",
    "import inflect\n",
    "p = inflect.engine()\n",
    "fraction_of_test_data = 0.2\n",
    "n_grams = 2\n",
    "cross_validating = True"
   ]
  },
  {
   "cell_type": "code",
   "execution_count": 13,
   "metadata": {
    "collapsed": false
   },
   "outputs": [],
   "source": [
    "data = pd.read_json('train.json')\n",
    "if not cross_validating:\n",
    "    test_data = pd.read_json('test.json')"
   ]
  },
  {
   "cell_type": "code",
   "execution_count": 14,
   "metadata": {
    "collapsed": false
   },
   "outputs": [],
   "source": [
    "# Function changes text from Unicode to ASCII and to lower case\n",
    "def encode_ascii(item):\n",
    "    if isinstance(item, list):\n",
    "        return [r.encode('ascii', 'ignore').lower() for r in item]\n",
    "    else:\n",
    "        return item.encode('ascii', 'ignore').lower()\n",
    "\n",
    "# Function changes all plurals to singular so ingredients like tomatoes and tomato are grouped together\n",
    "def singular(row):\n",
    "    return [p.singular_noun(i) if p.singular_noun(i) else i for i in row]\n",
    "\n",
    "# Function removes 'salt' as an ingredeint from the recipes\n",
    "def remove_salt(row):\n",
    "    if 'salt' in row:\n",
    "        row.remove('salt')  \n",
    "    return row\n",
    "\n",
    "# Function allows ingredients to be split into ngrams\n",
    "def use_ngrams(ingredient_list):\n",
    "    new_ingredient_list = []\n",
    "    for ingredient in ingredient_list:\n",
    "        if len(ingredient.split()) > n_grams:\n",
    "            words = list(ngrams(ingredient.split(), n_grams))\n",
    "            new_ingredient_list.append(list(' '.join(i) for i in words))\n",
    "        else:\n",
    "            new_ingredient_list.append([ingredient])\n",
    "    return list(itertools.chain.from_iterable(new_ingredient_list))   \n",
    "\n",
    "# Functions handles ingredients from test data that do not appear in training data\n",
    "def handle_unknown_ingredient(i, ingredients): \n",
    "    while len(i.split()) > 1:\n",
    "        if i in ingredients:\n",
    "            return i\n",
    "        else:\n",
    "            i = ' '.join(i.split()[1:])\n",
    "    return i"
   ]
  },
  {
   "cell_type": "code",
   "execution_count": 15,
   "metadata": {
    "collapsed": false
   },
   "outputs": [],
   "source": [
    "data_labels = data['cuisine'].apply(encode_ascii)\n",
    "data_features = data['ingredients'].apply(encode_ascii).apply(singular)\n",
    "data_features.apply(remove_salt)\n",
    "\n",
    "if not cross_validating:\n",
    "    X_test = test_data['ingredients'].apply(encode_ascii).apply(singular)\n",
    "    X_test.apply(remove_salt)\n",
    "    print X_test[:5]"
   ]
  },
  {
   "cell_type": "code",
   "execution_count": 16,
   "metadata": {
    "collapsed": false
   },
   "outputs": [],
   "source": [
    "data_features = data_features.apply(use_ngrams)\n",
    "\n",
    "if not cross_validating:\n",
    "    X_test = X_test.apply(use_ngrams)"
   ]
  },
  {
   "cell_type": "code",
   "execution_count": 17,
   "metadata": {
    "collapsed": false
   },
   "outputs": [],
   "source": [
    "#Dividing data into test and training sets for cross-validation\n",
    "if cross_validating:\n",
    "    X_train, X_test, y_train, y_test = model_selection.train_test_split(data_features, data_labels, test_size=fraction_of_test_data, random_state=0)"
   ]
  },
  {
   "cell_type": "code",
   "execution_count": 18,
   "metadata": {
    "collapsed": false
   },
   "outputs": [],
   "source": [
    "#Calculating prior probability of cuisine\n",
    "cuisine_stats = Counter(y_train)\n",
    "cuisine_probability = {k.encode('ascii','ignore'): float(v)/len(y_train) for k, v in cuisine_stats.items()}"
   ]
  },
  {
   "cell_type": "code",
   "execution_count": 19,
   "metadata": {
    "collapsed": false
   },
   "outputs": [],
   "source": [
    "# Calculating ingredient probability\n",
    "all_ingredients = list(itertools.chain.from_iterable(X_train.apply(encode_ascii)))\n",
    "unique_ingredients = list(set(all_ingredients))\n",
    "ingredients_count = len(all_ingredients)\n",
    "ingredient_stats = Counter(all_ingredients)\n",
    "ingredient_probability = {k: float(v) / ingredients_count for k, v in ingredient_stats.items()}"
   ]
  },
  {
   "cell_type": "code",
   "execution_count": 20,
   "metadata": {
    "collapsed": false
   },
   "outputs": [],
   "source": [
    "# Calculating the probability of ingredient given cuisine\n",
    "unique_cuisines = data['cuisine'].unique()\n",
    "cuisine_ingredient_dict = {k: [] for k in unique_cuisines}\n",
    "for cuisine in unique_cuisines:\n",
    "    cuisine_ingredient_list = X_train[y_train[y_train == cuisine].index].apply(encode_ascii)\n",
    "    flattened_list = list(itertools.chain.from_iterable(cuisine_ingredient_list))\n",
    "    cuisine_ingredient_dict[cuisine] = Counter(flattened_list)\n",
    "\n",
    "probability_ingredient_given_cuisine = {k: {} for k in unique_cuisines}\n",
    "for k,v in cuisine_ingredient_dict.items():\n",
    "    for i,j in v.items():\n",
    "        j = float(j)/cuisine_stats[k]\n",
    "        probability_ingredient_given_cuisine[k][i] = j"
   ]
  },
  {
   "cell_type": "code",
   "execution_count": 21,
   "metadata": {
    "collapsed": false
   },
   "outputs": [],
   "source": [
    "# Naive Bayes algorithm: Prob{cuisine|ingredients} = Prob{ingredients|cuisine}*Prob{cuisine}/Prob{ingredients}\n",
    "# => Prob{cuisine|ingredients} = Prob{ingredient_1|cusine}*Prob{ingredient_2|cuisine}....Prob{ingredient_N|cuisine}*Prob(cuisine)/(Prob{ingredient_1}*Prob{ingredient_2}.....Prob{ingredient_N})\n",
    "def naive_bayes(data):\n",
    "    output = []\n",
    "    for recipe in data:\n",
    "        recipe = set(recipe)\n",
    "        probability_cuisine_given_ingredients = {k : 0 for k in unique_cuisines}\n",
    "        for cuisine in unique_cuisines:\n",
    "            probability_ingredient_given_cuisine_total = 1\n",
    "            probability_ingredient_total = 1\n",
    "            for i in recipe:\n",
    "                if i not in unique_ingredients:\n",
    "                    i = handle_unknown_ingredient(i, unique_ingredients)\n",
    "                try:\n",
    "                    probability_ingredient_given_cuisine_total *= probability_ingredient_given_cuisine[cuisine][i]  \n",
    "                    probability_ingredient_total *= ingredient_probability[i] \n",
    "                except:\n",
    "                    NameError\n",
    "            probability_cuisine_given_ingredients[cuisine] = probability_ingredient_given_cuisine_total*cuisine_probability[cuisine]\\\n",
    "                                                        /probability_ingredient_total      \n",
    "        output.append(max(probability_cuisine_given_ingredients, key=probability_cuisine_given_ingredients.get))\n",
    "    return output\n",
    "final_result = naive_bayes(X_test)"
   ]
  },
  {
   "cell_type": "code",
   "execution_count": 46,
   "metadata": {
    "collapsed": false
   },
   "outputs": [
    {
     "name": "stdout",
     "output_type": "stream",
     "text": [
      "Fraction of recipes classified correctly = 0.73488372093\n"
     ]
    }
   ],
   "source": [
    "# Uncomment if cross-validating\n",
    "correct = 0\n",
    "incorrectly_classified = {k:[] for k in unique_cuisines}\n",
    "for i in range(len(final_result)):\n",
    "    if y_test.iloc[i] == final_result[i]:\n",
    "        correct += 1\n",
    "    else:\n",
    "        incorrectly_classified[y_test.iloc[i]].append(final_result[i])\n",
    "print 'Fraction of recipes classified correctly =', float(correct)/(len(final_result))"
   ]
  },
  {
   "cell_type": "code",
   "execution_count": 47,
   "metadata": {
    "collapsed": false
   },
   "outputs": [],
   "source": [
    "# print \"CORRECT CUISINE - Counter({'incorrect cuisine': # of times classified as}) \\n\"\n",
    "# for key, value in incorrectly_classified.items():\n",
    "#     print key.upper(), '-', Counter(encode_ascii(value)), '\\n'"
   ]
  },
  {
   "cell_type": "code",
   "execution_count": 23,
   "metadata": {
    "collapsed": false
   },
   "outputs": [],
   "source": [
    "# Formatting for Kaggle submission\n",
    "if not cross_validating:\n",
    "    output_for_submission = pd.DataFrame(data=final_result, index=test_data['id'], columns=['cuisine'])\n",
    "    output_for_submission.to_csv('naive_bayes_4.csv')"
   ]
  }
 ],
 "metadata": {
  "kernelspec": {
   "display_name": "Python 2",
   "language": "python",
   "name": "python2"
  },
  "language_info": {
   "codemirror_mode": {
    "name": "ipython",
    "version": 2
   },
   "file_extension": ".py",
   "mimetype": "text/x-python",
   "name": "python",
   "nbconvert_exporter": "python",
   "pygments_lexer": "ipython2",
   "version": "2.7.9"
  }
 },
 "nbformat": 4,
 "nbformat_minor": 1
}
